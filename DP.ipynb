{
 "cells": [
  {
   "cell_type": "markdown",
   "metadata": {},
   "source": [
    "####  什么样的题可以用DP\n",
    "1. 问题有子问题，并且通过子问题的最优解能够得到问题的最优解\n",
    "2. 求解过\n",
    "程中同样的子问题会求解多次(overlapping)。时间复杂度可以从exponential降维到polynomial。如果，子问题没有overlap(merge sort)， 那就用divide and conquer\n",
    "3. 子问题最优解是确定的，并且子问题最优解确定后能够得出一个确定的原问题最优解。"
   ]
  },
  {
   "cell_type": "markdown",
   "metadata": {},
   "source": [
    "#### 题类型\n",
    "1. 一维counting\n",
    "2. 二维counting\n",
    "\n",
    "#### 解类型\n",
    "1. top-down:记忆递归\n",
    "2. general意义上的DP\n",
    "--- \n",
    "- Fibonacci sequence\n",
    "- LCS\n",
    "- Knapsack\n",
    "- Floyd-warshall\n",
    "- Bellman-Ford"
   ]
  },
  {
   "cell_type": "code",
   "execution_count": null,
   "metadata": {},
   "outputs": [],
   "source": []
  },
  {
   "cell_type": "code",
   "execution_count": 23,
   "metadata": {
    "scrolled": true
   },
   "outputs": [
    {
     "name": "stdout",
     "output_type": "stream",
     "text": [
      "781774079430987230203437\n"
     ]
    }
   ],
   "source": [
    "'''\n",
    "70. Climbing Stairs\n",
    "\n",
    "1. 定义子问题，构建解空间！\n",
    "\n",
    "2. 找到状态转移方程: \n",
    "    f(n) = f(n-1) + f(n-2)\n",
    "    \n",
    "3. 初始化：\n",
    "    f(1), f(0) = 1\n",
    "    \n",
    "4. 降维：\n",
    "    O(2^n) -> O(n)\n",
    "    O(n)   -> O(1)\n",
    "    \n",
    "5. 记忆化\n",
    "\n",
    "\n",
    "类型：一维DP, counting\n",
    "''' \n",
    "# 纯递归， O(2^n) O(n)\n",
    "def f0(n):\n",
    "    if n <= 1:\n",
    "        return 1\n",
    "    return f(n-1) + f(n-2)\n",
    "\n",
    "\n",
    "# 记忆递归 top-down,用字典memoize， O(n), O(n). 注意递归的通病，空间复杂度O(n)\n",
    "# 会导致栈溢出, 而且空间无法降维\n",
    "def f1(n):\n",
    "    mem = {}\n",
    "    def f(num, mem):\n",
    "        # base\n",
    "        if num <= 1:\n",
    "            return 1\n",
    "        if num not in mem:\n",
    "            mem[num] = f(num-1, mem) + f(num-2, mem)\n",
    "        return mem[num]\n",
    "    return f(n, mem)\n",
    "\n",
    "\n",
    "# DP, bottom-up, 循环(递推)代替递归，一维数组从子问题开始填充  O(n), O(n)， \n",
    "# stackoverflow\n",
    "def f2(n):\n",
    "    dp = [1] * (n + 1)\n",
    "    for i in range(2, n+1):\n",
    "        dp[i] = dp[i-1] + dp[i-2]\n",
    "    return dp[n]\n",
    "\n",
    "\n",
    "\n",
    "# DP, bottom-up, 改进空间复杂度，O(n) -> o(1)\n",
    "def f3(n):\n",
    "    dp1, dp2 = 1, 1\n",
    "    for i in range(2, n+1):\n",
    "        dp2, dp1 = dp1 + dp2, dp2\n",
    "    return dp2\n",
    "\n",
    "# print(f0(999115))  # stack overflow\n",
    "# print(f1(999115))  # stack overflow\n",
    "# print(f2(999115))  # stack overflow\n",
    "print(f3(115))"
   ]
  },
  {
   "cell_type": "code",
   "execution_count": 30,
   "metadata": {},
   "outputs": [
    {
     "name": "stdout",
     "output_type": "stream",
     "text": [
      "3\n",
      "3\n"
     ]
    }
   ],
   "source": [
    "'''\n",
    "62. unique path\n",
    "\n",
    "类型： 二维DP, counting\n",
    "\n",
    "f(x, y) = f(x-1,y) + f(x, y-1)\n",
    "\n",
    "** 处理越界用padding技巧：actual indies start from 1 instead of 0 **\n",
    "初始化：\n",
    "    f(0,) = f(,0) = 0\n",
    "    f(1,1) = 1\n",
    "\n",
    "'''\n",
    "\n",
    "# 纯递归， O(2^(m+n)) O(mn)\n",
    "def f0(m, n):\n",
    "    if m <= 0 or n <= 0: return 0\n",
    "    if m == 1 and n == 1: return 1\n",
    "    return f(m-1,n) + f(m, n-1)\n",
    "\n",
    "# 记忆递归(有参数无循环， 一个参数可以省一个循环)  O(mn), O(mn)\n",
    "def f1(m, n):\n",
    "    mem = {}\n",
    "    def f(x, y, mem):\n",
    "        if x <= 0 or y <= 0: return 0  # 没有padding，要处理越界条件\n",
    "        if x == 1 and y == 1: return 1\n",
    "        if (x,y) not in mem:\n",
    "            mem[(x,y)] = f(x-1, y,mem) + f(x,y-1, mem)\n",
    "        return mem[(x,y)]\n",
    "    return f(m,n, mem)\n",
    "\n",
    "#  DP (无参数有循环) O(mn), O(mn)\n",
    "def f2(m, n):\n",
    "    # padding, 不用考虑越界\n",
    "    dp = [[0] * (m+1) for _ in range(n+1)] # 这样申请2d数组空间！\n",
    "    dp[1][1] = 1\n",
    "    for i in range(1,n+1):\n",
    "        for j in range(1, m+1):\n",
    "            dp[i][j] = dp[i-1][j] + dp[i][j-1]\n",
    "    return dp[n][m]\n",
    "    \n",
    "print(f0(3,2))\n",
    "print(f1(3,2))"
   ]
  },
  {
   "cell_type": "raw",
   "metadata": {},
   "source": [
    "模板\n",
    "\n",
    "dp = create dp array add padding if needed\n",
    "dp[0][0] = init , base cases\n",
    "for i\n",
    "    for i\n",
    "        dp[i][j] = transition\n",
    "return d[n][m]\n",
    "\n",
    "---\n",
    "mem = create array/dict\n",
    "\n",
    "def dp(i, j, ...)\n",
    "    if base_case(i,j) return ...\n",
    "    if i,j not in mem\n",
    "        mem(i,j) = transition\n",
    "    return mem(i,j)\n",
    "return dp(m,n)\n",
    "\n",
    "*** \n",
    "DP必须确保子问题先被求解， 记忆递归会自动求解在栈上先求解\n",
    "***"
   ]
  },
  {
   "cell_type": "markdown",
   "metadata": {},
   "source": [
    "#### 含有两个子问题的一维DP\n",
    "926.flip string to monotone increasing\n",
    "优化问题，从左往右扫描，从右到左，最后合并\n",
    "845.longest mountain in array\n",
    "#### 多个状态的一维DP（最多3层）\n",
    "801.Minimum swaps to make sequences increasing\n",
    "790.\n",
    "926.\n",
    "818."
   ]
  },
  {
   "cell_type": "code",
   "execution_count": null,
   "metadata": {},
   "outputs": [],
   "source": []
  }
 ],
 "metadata": {
  "kernelspec": {
   "display_name": "Python 3",
   "language": "python",
   "name": "python3"
  },
  "language_info": {
   "codemirror_mode": {
    "name": "ipython",
    "version": 3
   },
   "file_extension": ".py",
   "mimetype": "text/x-python",
   "name": "python",
   "nbconvert_exporter": "python",
   "pygments_lexer": "ipython3",
   "version": "3.7.3"
  }
 },
 "nbformat": 4,
 "nbformat_minor": 2
}
