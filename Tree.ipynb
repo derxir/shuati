{
 "cells": [
  {
   "cell_type": "raw",
   "metadata": {},
   "source": [
    "BackTracking = DFS + pruning\n",
    "\n",
    "BT problems:\n",
    "    1. if there is a solution in the solution tree（决策树）\n",
    "    2. give me the solution in the solution tree\n",
    "    \n",
    "Templates:\n",
    "\n",
    "def is_solution_exist(current_state, solution_set):\n",
    "    if found(current_state):\n",
    "         do_somthing()\n",
    "         solution_set.add(current_state)\n",
    "    \n",
    "    for state in next_level_state:\n",
    "        if (! isValid(val, n)) continue;  // 剪枝 \n",
    "        "
   ]
  },
  {
   "cell_type": "raw",
   "metadata": {},
   "source": [
    "46. Permutations"
   ]
  },
  {
   "cell_type": "code",
   "execution_count": null,
   "metadata": {
    "collapsed": true
   },
   "outputs": [],
   "source": [
    "class Solution:\n",
    "    def permute(self, nums: List[int]) -> List[List[int]]:\n",
    "        ap\n",
    "    \n",
    "print(Solution().permute([1,2,3]))"
   ]
  },
  {
   "cell_type": "code",
   "execution_count": null,
   "metadata": {
    "collapsed": true
   },
   "outputs": [],
   "source": []
  },
  {
   "cell_type": "code",
   "execution_count": 2,
   "metadata": {
    "collapsed": true
   },
   "outputs": [],
   "source": [
    "from typing import List\n",
    "class TreeNode:\n",
    "    def __init__(self, x):\n",
    "        self.val = x\n",
    "        self.left = None\n",
    "        self.right = None\n",
    "        \n",
    "root = TreeNode('D')\n",
    "root.left = TreeNode('B')\n",
    "root.left.left = TreeNode('A')\n",
    "root.left.right = TreeNode('C')\n",
    "root.right = TreeNode('E')"
   ]
  },
  {
   "cell_type": "code",
   "execution_count": 4,
   "metadata": {},
   "outputs": [
    {
     "data": {
      "text/plain": [
       "3"
      ]
     },
     "execution_count": 4,
     "metadata": {},
     "output_type": "execute_result"
    }
   ],
   "source": [
    "# 104. Maximum Depth of Binary Tree (Easy)\n",
    "\n",
    "def maxDepth(node: TreeNode) -> int:\n",
    "    return max(maxDepth(node.left), maxDepth(node.right)) + 1 if node else 0\n",
    "\n",
    "root = TreeNode(1)\n",
    "maxDepth(None)\n",
    "root.left = TreeNode(2)\n",
    "root.left.left = TreeNode(3)\n",
    "maxDepth(root)"
   ]
  },
  {
   "cell_type": "code",
   "execution_count": null,
   "metadata": {
    "collapsed": true
   },
   "outputs": [],
   "source": [
    "# 110. Balanced Binary Tree"
   ]
  },
  {
   "cell_type": "code",
   "execution_count": 5,
   "metadata": {
    "collapsed": true
   },
   "outputs": [],
   "source": [
    "# 543. Diameter of Binary Tree (Easy) \n",
    "class Solution:\n",
    "    #  time O(n), space O(1)\n",
    "    def __init__(self):\n",
    "        self.max = 0\n",
    "        \n",
    "    def diameterOfBinaryTree(self, root: TreeNode) -> int:\n",
    "        def depth(root):\n",
    "            if not root:\n",
    "                return 0\n",
    "            l = depth(root.left)\n",
    "            r = depth(root.right)\n",
    "            self.max = max(self.max, l + r)\n",
    "            return max(l, r) + 1\n",
    "        \n",
    "        depth(root)\n",
    "        return self.max"
   ]
  },
  {
   "cell_type": "code",
   "execution_count": 6,
   "metadata": {
    "collapsed": true
   },
   "outputs": [],
   "source": [
    "# 226. Invert Binary Tree (Easy)\n",
    "class Solution:\n",
    "    def invertTree(self, root: TreeNode) -> TreeNode:\n",
    "        if not root:\n",
    "            return None\n",
    "        left = self.left\n",
    "        root.left = self.invertTree(root.right)\n",
    "        root.right = self.invertTree(left)\n",
    "        return root\n",
    "        "
   ]
  },
  {
   "cell_type": "code",
   "execution_count": 7,
   "metadata": {},
   "outputs": [
    {
     "data": {
      "text/plain": [
       "[3, 2, 1]"
      ]
     },
     "execution_count": 7,
     "metadata": {},
     "output_type": "execute_result"
    }
   ],
   "source": [
    "### In order traversal\n",
    "class Solution:\n",
    "    def inorderTraversal(self, root: TreeNode) -> List[int]:\n",
    "        \"\"\"Iterative\"\"\"\n",
    "        stack = []\n",
    "        res = []\n",
    "        cur = root\n",
    "        \n",
    "        while cur or stack :\n",
    "            while cur:\n",
    "                stack.append(cur)\n",
    "                cur = cur.left\n",
    "            cur = stack.pop()\n",
    "            res.append(cur.val)\n",
    "            cur = cur.right\n",
    "        return res\n",
    "    \n",
    "    def inorderTraversalRec(self, root: TreeNode) -> List[int]:\n",
    "        res = []\n",
    "        self.__helper(root, res)\n",
    "        return res\n",
    "    \n",
    "    def __helper(self, root, res):\n",
    "        if root:\n",
    "            self.__helper(root.left, res)\n",
    "            res.append(root.val)\n",
    "            self.__helper(root.right, res)\n",
    "            \n",
    "Solution().inorderTraversal(root)"
   ]
  },
  {
   "cell_type": "markdown",
   "metadata": {},
   "source": [
    "### Pre Order Traversal"
   ]
  },
  {
   "cell_type": "code",
   "execution_count": 6,
   "metadata": {},
   "outputs": [
    {
     "data": {
      "text/plain": [
       "['D', 'B', 'A', 'C', 'E']"
      ]
     },
     "execution_count": 6,
     "metadata": {},
     "output_type": "execute_result"
    }
   ],
   "source": [
    "class Solution:\n",
    "    def preorderTraversal(self, root: TreeNode) -> List[int]:\n",
    "        res = []\n",
    "        stack = []\n",
    "        if not root:\n",
    "            return res\n",
    "        \n",
    "        stack.append(root)\n",
    "        while stack:\n",
    "            cur = stack.pop()\n",
    "            res.append(cur.val)\n",
    "            if cur.right:\n",
    "                stack.append(cur.right)\n",
    "            if cur.left:\n",
    "                stack.append(cur.left)\n",
    "                \n",
    "        return res\n",
    "Solution().preorderTraversal(root)"
   ]
  },
  {
   "cell_type": "code",
   "execution_count": 9,
   "metadata": {
    "collapsed": true
   },
   "outputs": [],
   "source": [
    "# 589. N-ary Tree Preorder Traversal\n",
    "class Node:\n",
    "    def __init__(self, val=None, children=None):\n",
    "        self.val = val\n",
    "        self.children = children\n",
    "\n",
    "class Solution:\n",
    "    def preorder(self, root: Node) -> List[int]:\n",
    "        res = []\n",
    "        stack = []\n",
    "        if not root:\n",
    "            return res\n",
    "        \n",
    "        stack.append(root)\n",
    "        while stack:\n",
    "            node = stack.pop()\n",
    "            res.append(node.val)\n",
    "            if node.children:\n",
    "                [stack.append(child) for child in node.children[::-1]]\n",
    "                \n",
    "        return res   "
   ]
  },
  {
   "cell_type": "markdown",
   "metadata": {},
   "source": [
    "### Post Order Traversal\n"
   ]
  },
  {
   "cell_type": "code",
   "execution_count": 4,
   "metadata": {},
   "outputs": [
    {
     "data": {
      "text/plain": [
       "['D', 'E', 'B', 'C', 'A']"
      ]
     },
     "execution_count": 4,
     "metadata": {},
     "output_type": "execute_result"
    }
   ],
   "source": [
    "class Solution:\n",
    "    def postorderTraversal(self, root: TreeNode) -> List[int]:\n",
    "        res = []\n",
    "        stack = []\n",
    "        if not root:\n",
    "            return res\n",
    "        \n",
    "        stack.append(root)\n",
    "        while stack:\n",
    "            cur = stack.pop()\n",
    "            res.append(cur.val)\n",
    "            if cur.left:\n",
    "                stack.append(cur.left)\n",
    "            if cur.right:\n",
    "                stack.append(cur.right)\n",
    "                \n",
    "        return res\n",
    "Solution().postorderTraversal(root)"
   ]
  },
  {
   "cell_type": "code",
   "execution_count": null,
   "metadata": {
    "collapsed": true
   },
   "outputs": [],
   "source": [
    "# 590. N-ary Tree Postorder Traversal\n",
    "class Node:\n",
    "    def __init__(self, val=None, children=None):\n",
    "        self.val = val\n",
    "        self.children = children\n",
    "\n",
    "class Solution:\n",
    "    def postorder(self, root: Node) -> List[int]:\n",
    "        res = []\n",
    "        stack = []\n",
    "        if not root:\n",
    "            return res\n",
    "        \n",
    "        stack.append(root)\n",
    "        while stack:\n",
    "            node = stack.pop()\n",
    "            if node.children:\n",
    "                [stack.append(child) for child in node.children]\n",
    "            res.insert(0, node.val)\n",
    "           \n",
    "        return res  "
   ]
  },
  {
   "cell_type": "markdown",
   "metadata": {},
   "source": []
  },
  {
   "cell_type": "code",
   "execution_count": 11,
   "metadata": {
    "collapsed": true
   },
   "outputs": [],
   "source": [
    "## 236. Lowest Common Ancestor of a Binary Tree\n",
    "\n",
    "class Solution:\n",
    "\n",
    "    def __init__(self):\n",
    "        # Variable to store LCA node.\n",
    "        self.ans = None\n",
    "\n",
    "    def lowestCommonAncestor(self, root, p, q):\n",
    "        \"\"\"\n",
    "        :type root: TreeNode\n",
    "        :type p: int\n",
    "        :type q: int\n",
    "        :rtype: TreeNode\n",
    "        \"\"\"\n",
    "\n",
    "        # [for the current node, I want to know...]  if p exist in the children, q exist in the children,\n",
    "        # or current node is p or q.\n",
    "        def recurse_tree(current_node):\n",
    "\n",
    "            # If reached the end of a branch, return False.\n",
    "            if not current_node:\n",
    "                return False\n",
    "\n",
    "            # Left Recursion\n",
    "            left = recurse_tree(current_node.left)\n",
    "\n",
    "            # Right Recursion\n",
    "            right = recurse_tree(current_node.right)\n",
    "\n",
    "            # If the current node is one of p or q\n",
    "            mid = current_node.val == p or current_node.val == q\n",
    "\n",
    "            # If any two of the three flags left, right or mid become True.\n",
    "            if mid + left + right >= 2:\n",
    "                self.ans = current_node\n",
    "\n",
    "            # Return True if either of the three bool values is True.\n",
    "            return mid or left or right\n",
    "\n",
    "        # Traverse the tree\n",
    "        recurse_tree(root)\n",
    "        return self.ans\n",
    "            "
   ]
  },
  {
   "cell_type": "markdown",
   "metadata": {},
   "source": [
    "#### 64. Minimum Path Sum"
   ]
  },
  {
   "cell_type": "code",
   "execution_count": null,
   "metadata": {
    "collapsed": true
   },
   "outputs": [],
   "source": []
  },
  {
   "cell_type": "raw",
   "metadata": {},
   "source": [
    "(hard) 297. Serialize and Deserialize Binary Tree"
   ]
  },
  {
   "cell_type": "raw",
   "metadata": {},
   "source": [
    "(medium) 31. Next Permutation"
   ]
  },
  {
   "cell_type": "code",
   "execution_count": null,
   "metadata": {
    "collapsed": true
   },
   "outputs": [],
   "source": []
  },
  {
   "cell_type": "code",
   "execution_count": null,
   "metadata": {
    "collapsed": true
   },
   "outputs": [],
   "source": []
  }
 ],
 "metadata": {
  "kernelspec": {
   "display_name": "Python 3",
   "language": "python",
   "name": "python3"
  },
  "language_info": {
   "codemirror_mode": {
    "name": "ipython",
    "version": 3
   },
   "file_extension": ".py",
   "mimetype": "text/x-python",
   "name": "python",
   "nbconvert_exporter": "python",
   "pygments_lexer": "ipython3",
   "version": "3.6.3"
  }
 },
 "nbformat": 4,
 "nbformat_minor": 2
}
